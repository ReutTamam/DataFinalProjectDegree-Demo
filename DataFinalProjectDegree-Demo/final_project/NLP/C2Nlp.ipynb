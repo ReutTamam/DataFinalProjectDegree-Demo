{
 "cells": [
  {
   "cell_type": "code",
   "execution_count": 2,
   "id": "521766f6-e2f9-45e5-a182-73f724b9a34c",
   "metadata": {},
   "outputs": [],
   "source": [
    "# 🔤 עיבוד טקסט כללי\n",
    "import pandas as pd\n",
    "import numpy as np\n",
    "import re\n",
    "import string\n",
    "\n",
    "# 🧠 עיבוד שפה טבעית\n",
    "import nltk\n",
    "from nltk.corpus import stopwords\n",
    "from nltk.stem import WordNetLemmatizer\n",
    "\n",
    "import spacy\n",
    "from textblob import TextBlob\n",
    "\n",
    "# 💬 טרנספורמרים (מודלים מתקדמים)\n",
    "from transformers import pipeline\n",
    "\n",
    "# 📊 סיווג, ניתוח, מודלים\n",
    "from sklearn.feature_extraction.text import CountVectorizer, TfidfVectorizer\n",
    "from sklearn.model_selection import train_test_split\n",
    "from sklearn.linear_model import LogisticRegression\n",
    "from sklearn.naive_bayes import MultinomialNB\n",
    "from sklearn.metrics import classification_report\n",
    "\n",
    "# 📁 קריאת Word ודוחות\n",
    "from docx import Document\n",
    "\n",
    "# 📚 תמצות\n",
    "from sumy.parsers.plaintext import PlaintextParser\n",
    "from sumy.nlp.tokenizers import Tokenizer\n",
    "from sumy.summarizers.lsa import LsaSummarizer\n",
    "\n",
    "# ✅ NLP מתקדם עם SpaCy\n",
    "nlp = spacy.load(\"en_core_web_sm\")\n"
   ]
  },
  {
   "cell_type": "code",
   "execution_count": null,
   "id": "f729c024-0d44-4945-80ad-66cf0c3a88af",
   "metadata": {},
   "outputs": [],
   "source": []
  }
 ],
 "metadata": {
  "kernelspec": {
   "display_name": "Python 3 (ipykernel)",
   "language": "python",
   "name": "python3"
  },
  "language_info": {
   "codemirror_mode": {
    "name": "ipython",
    "version": 3
   },
   "file_extension": ".py",
   "mimetype": "text/x-python",
   "name": "python",
   "nbconvert_exporter": "python",
   "pygments_lexer": "ipython3",
   "version": "3.13.0"
  }
 },
 "nbformat": 4,
 "nbformat_minor": 5
}
